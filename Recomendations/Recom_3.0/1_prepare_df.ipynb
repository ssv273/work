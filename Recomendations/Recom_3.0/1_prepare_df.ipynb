{
 "cells": [
  {
   "cell_type": "code",
   "execution_count": 1,
   "metadata": {},
   "outputs": [],
   "source": [
    "import pandas as pd\n",
    "import numpy as np\n",
    "from tqdm import tqdm          # это просто библиотека для отображения прогресс бара"
   ]
  },
  {
   "cell_type": "markdown",
   "metadata": {},
   "source": [
    "Считываем CSV"
   ]
  },
  {
   "cell_type": "code",
   "execution_count": 2,
   "metadata": {},
   "outputs": [],
   "source": [
    "df = pd.read_csv('recom.csv', sep=';', encoding='PT154')"
   ]
  },
  {
   "cell_type": "code",
   "execution_count": 3,
   "metadata": {
    "scrolled": true
   },
   "outputs": [
    {
     "data": {
      "text/html": [
       "<div>\n",
       "<style scoped>\n",
       "    .dataframe tbody tr th:only-of-type {\n",
       "        vertical-align: middle;\n",
       "    }\n",
       "\n",
       "    .dataframe tbody tr th {\n",
       "        vertical-align: top;\n",
       "    }\n",
       "\n",
       "    .dataframe thead th {\n",
       "        text-align: right;\n",
       "    }\n",
       "</style>\n",
       "<table border=\"1\" class=\"dataframe\">\n",
       "  <thead>\n",
       "    <tr style=\"text-align: right;\">\n",
       "      <th></th>\n",
       "      <th>order_number</th>\n",
       "      <th>order_date</th>\n",
       "      <th>client_id</th>\n",
       "      <th>item_name</th>\n",
       "      <th>item_quantity</th>\n",
       "      <th>level1</th>\n",
       "      <th>level3</th>\n",
       "    </tr>\n",
       "  </thead>\n",
       "  <tbody>\n",
       "    <tr>\n",
       "      <th>0</th>\n",
       "      <td>198672</td>\n",
       "      <td>2019-05-01</td>\n",
       "      <td>14631</td>\n",
       "      <td>ПД-11-12</td>\n",
       "      <td>10,90</td>\n",
       "      <td>одежные ткани</td>\n",
       "      <td>подкладочные</td>\n",
       "    </tr>\n",
       "    <tr>\n",
       "      <th>1</th>\n",
       "      <td>198672</td>\n",
       "      <td>2019-05-01</td>\n",
       "      <td>14631</td>\n",
       "      <td>ПД-17-3</td>\n",
       "      <td>10,00</td>\n",
       "      <td>одежные ткани</td>\n",
       "      <td>подкладочные</td>\n",
       "    </tr>\n",
       "    <tr>\n",
       "      <th>2</th>\n",
       "      <td>198672</td>\n",
       "      <td>2019-05-01</td>\n",
       "      <td>14631</td>\n",
       "      <td>ПД-17-9</td>\n",
       "      <td>10,00</td>\n",
       "      <td>одежные ткани</td>\n",
       "      <td>подкладочные</td>\n",
       "    </tr>\n",
       "    <tr>\n",
       "      <th>3</th>\n",
       "      <td>198672</td>\n",
       "      <td>2019-05-01</td>\n",
       "      <td>14631</td>\n",
       "      <td>ПД-3-1</td>\n",
       "      <td>10,00</td>\n",
       "      <td>одежные ткани</td>\n",
       "      <td>подкладочные</td>\n",
       "    </tr>\n",
       "    <tr>\n",
       "      <th>4</th>\n",
       "      <td>198672</td>\n",
       "      <td>2019-05-01</td>\n",
       "      <td>14631</td>\n",
       "      <td>ПД-3-16</td>\n",
       "      <td>10,00</td>\n",
       "      <td>одежные ткани</td>\n",
       "      <td>подкладочные</td>\n",
       "    </tr>\n",
       "  </tbody>\n",
       "</table>\n",
       "</div>"
      ],
      "text/plain": [
       "   order_number  order_date  client_id item_name item_quantity         level1  \\\n",
       "0        198672  2019-05-01      14631  ПД-11-12         10,90  одежные ткани   \n",
       "1        198672  2019-05-01      14631   ПД-17-3         10,00  одежные ткани   \n",
       "2        198672  2019-05-01      14631   ПД-17-9         10,00  одежные ткани   \n",
       "3        198672  2019-05-01      14631    ПД-3-1         10,00  одежные ткани   \n",
       "4        198672  2019-05-01      14631   ПД-3-16         10,00  одежные ткани   \n",
       "\n",
       "         level3  \n",
       "0  подкладочные  \n",
       "1  подкладочные  \n",
       "2  подкладочные  \n",
       "3  подкладочные  \n",
       "4  подкладочные  "
      ]
     },
     "execution_count": 3,
     "metadata": {},
     "output_type": "execute_result"
    }
   ],
   "source": [
    "df.head()"
   ]
  },
  {
   "cell_type": "markdown",
   "metadata": {},
   "source": [
    "Т.к. количество через запятую - меняем ее на точку."
   ]
  },
  {
   "cell_type": "code",
   "execution_count": 4,
   "metadata": {},
   "outputs": [],
   "source": [
    "df['item_quantity'] = df['item_quantity'].replace(\n",
    "    to_replace=r',', value='.', regex=True).astype('float32')"
   ]
  },
  {
   "cell_type": "markdown",
   "metadata": {},
   "source": [
    "Удаляем ненужные столбцы"
   ]
  },
  {
   "cell_type": "code",
   "execution_count": 5,
   "metadata": {},
   "outputs": [],
   "source": [
    "del df['order_number']\n",
    "del df['order_date']\n",
    "del df['level3']"
   ]
  },
  {
   "cell_type": "markdown",
   "metadata": {},
   "source": [
    "Группируем по категриям товаров"
   ]
  },
  {
   "cell_type": "code",
   "execution_count": 6,
   "metadata": {
    "scrolled": true
   },
   "outputs": [
    {
     "data": {
      "text/html": [
       "<div>\n",
       "<style scoped>\n",
       "    .dataframe tbody tr th:only-of-type {\n",
       "        vertical-align: middle;\n",
       "    }\n",
       "\n",
       "    .dataframe tbody tr th {\n",
       "        vertical-align: top;\n",
       "    }\n",
       "\n",
       "    .dataframe thead th {\n",
       "        text-align: right;\n",
       "    }\n",
       "</style>\n",
       "<table border=\"1\" class=\"dataframe\">\n",
       "  <thead>\n",
       "    <tr style=\"text-align: right;\">\n",
       "      <th></th>\n",
       "      <th>level1</th>\n",
       "      <th>client_id</th>\n",
       "      <th>item_name</th>\n",
       "      <th>item_quantity</th>\n",
       "    </tr>\n",
       "  </thead>\n",
       "  <tbody>\n",
       "    <tr>\n",
       "      <th>0</th>\n",
       "      <td>выкройки online</td>\n",
       "      <td>14614</td>\n",
       "      <td>ВКК-1-1</td>\n",
       "      <td>1.0</td>\n",
       "    </tr>\n",
       "    <tr>\n",
       "      <th>1</th>\n",
       "      <td>выкройки online</td>\n",
       "      <td>14614</td>\n",
       "      <td>ВКК-1-2</td>\n",
       "      <td>1.0</td>\n",
       "    </tr>\n",
       "    <tr>\n",
       "      <th>2</th>\n",
       "      <td>выкройки online</td>\n",
       "      <td>14614</td>\n",
       "      <td>ВКК-1-3</td>\n",
       "      <td>1.0</td>\n",
       "    </tr>\n",
       "    <tr>\n",
       "      <th>3</th>\n",
       "      <td>выкройки online</td>\n",
       "      <td>14614</td>\n",
       "      <td>ВКК-1-4</td>\n",
       "      <td>1.0</td>\n",
       "    </tr>\n",
       "    <tr>\n",
       "      <th>4</th>\n",
       "      <td>выкройки online</td>\n",
       "      <td>14614</td>\n",
       "      <td>ВКК-1-5</td>\n",
       "      <td>1.0</td>\n",
       "    </tr>\n",
       "  </tbody>\n",
       "</table>\n",
       "</div>"
      ],
      "text/plain": [
       "            level1  client_id item_name  item_quantity\n",
       "0  выкройки online      14614   ВКК-1-1            1.0\n",
       "1  выкройки online      14614   ВКК-1-2            1.0\n",
       "2  выкройки online      14614   ВКК-1-3            1.0\n",
       "3  выкройки online      14614   ВКК-1-4            1.0\n",
       "4  выкройки online      14614   ВКК-1-5            1.0"
      ]
     },
     "execution_count": 6,
     "metadata": {},
     "output_type": "execute_result"
    }
   ],
   "source": [
    "c = df.groupby(['level1', 'client_id', 'item_name'], as_index=False).agg('sum')\n",
    "c.head()"
   ]
  },
  {
   "cell_type": "markdown",
   "metadata": {},
   "source": [
    "Отбираем только нужные нам категории"
   ]
  },
  {
   "cell_type": "code",
   "execution_count": 7,
   "metadata": {
    "scrolled": true
   },
   "outputs": [
    {
     "data": {
      "text/html": [
       "<div>\n",
       "<style scoped>\n",
       "    .dataframe tbody tr th:only-of-type {\n",
       "        vertical-align: middle;\n",
       "    }\n",
       "\n",
       "    .dataframe tbody tr th {\n",
       "        vertical-align: top;\n",
       "    }\n",
       "\n",
       "    .dataframe thead th {\n",
       "        text-align: right;\n",
       "    }\n",
       "</style>\n",
       "<table border=\"1\" class=\"dataframe\">\n",
       "  <thead>\n",
       "    <tr style=\"text-align: right;\">\n",
       "      <th></th>\n",
       "      <th>client_id</th>\n",
       "      <th>item_name</th>\n",
       "      <th>item_quantity</th>\n",
       "    </tr>\n",
       "  </thead>\n",
       "  <tbody>\n",
       "    <tr>\n",
       "      <th>1937</th>\n",
       "      <td>14795</td>\n",
       "      <td>ГЖ-7-1</td>\n",
       "      <td>29.400000</td>\n",
       "    </tr>\n",
       "    <tr>\n",
       "      <th>1938</th>\n",
       "      <td>14795</td>\n",
       "      <td>ГМ-50-1</td>\n",
       "      <td>31.299999</td>\n",
       "    </tr>\n",
       "    <tr>\n",
       "      <th>1939</th>\n",
       "      <td>14795</td>\n",
       "      <td>ГМ-55-1</td>\n",
       "      <td>34.000000</td>\n",
       "    </tr>\n",
       "    <tr>\n",
       "      <th>1940</th>\n",
       "      <td>14795</td>\n",
       "      <td>РМ-8-1</td>\n",
       "      <td>28.400000</td>\n",
       "    </tr>\n",
       "    <tr>\n",
       "      <th>1941</th>\n",
       "      <td>17255</td>\n",
       "      <td>ГМ-51-1</td>\n",
       "      <td>27.000000</td>\n",
       "    </tr>\n",
       "  </tbody>\n",
       "</table>\n",
       "</div>"
      ],
      "text/plain": [
       "      client_id item_name  item_quantity\n",
       "1937      14795    ГЖ-7-1      29.400000\n",
       "1938      14795   ГМ-50-1      31.299999\n",
       "1939      14795   ГМ-55-1      34.000000\n",
       "1940      14795    РМ-8-1      28.400000\n",
       "1941      17255   ГМ-51-1      27.000000"
      ]
     },
     "execution_count": 7,
     "metadata": {},
     "output_type": "execute_result"
    }
   ],
   "source": [
    "fabric = c.loc[(c.level1 == 'ткани для дома') | (c.level1 == 'одежные ткани') | (\n",
    "    c.level1 == 'технические ткани') | (c.level1 == 'мебельные ткани'), ['client_id', 'item_name', 'item_quantity']]\n",
    "fabric.head()"
   ]
  },
  {
   "cell_type": "markdown",
   "metadata": {},
   "source": [
    "Создаем функцию, которая присваивает ранг товару в зависимости от того насколько товар интересен клиенту"
   ]
  },
  {
   "cell_type": "code",
   "execution_count": 8,
   "metadata": {},
   "outputs": [],
   "source": [
    "def scores(df, id_client):\n",
    "    b = df.loc[df.client_id == id_client]\n",
    "    b['score'] = np.ceil(b['item_quantity'] / b['item_quantity'].max() * 10)\n",
    "    return b"
   ]
  },
  {
   "cell_type": "markdown",
   "metadata": {},
   "source": [
    "Создаем пустую табличку с нужными нам колонками"
   ]
  },
  {
   "cell_type": "code",
   "execution_count": 9,
   "metadata": {},
   "outputs": [],
   "source": [
    "res = pd.DataFrame(columns=('client_id', 'item_name', 'item_quantity', 'score'))"
   ]
  },
  {
   "cell_type": "code",
   "execution_count": 10,
   "metadata": {
    "scrolled": true
   },
   "outputs": [
    {
     "data": {
      "text/html": [
       "<div>\n",
       "<style scoped>\n",
       "    .dataframe tbody tr th:only-of-type {\n",
       "        vertical-align: middle;\n",
       "    }\n",
       "\n",
       "    .dataframe tbody tr th {\n",
       "        vertical-align: top;\n",
       "    }\n",
       "\n",
       "    .dataframe thead th {\n",
       "        text-align: right;\n",
       "    }\n",
       "</style>\n",
       "<table border=\"1\" class=\"dataframe\">\n",
       "  <thead>\n",
       "    <tr style=\"text-align: right;\">\n",
       "      <th></th>\n",
       "      <th>client_id</th>\n",
       "      <th>item_name</th>\n",
       "      <th>item_quantity</th>\n",
       "      <th>score</th>\n",
       "    </tr>\n",
       "  </thead>\n",
       "  <tbody>\n",
       "  </tbody>\n",
       "</table>\n",
       "</div>"
      ],
      "text/plain": [
       "Empty DataFrame\n",
       "Columns: [client_id, item_name, item_quantity, score]\n",
       "Index: []"
      ]
     },
     "execution_count": 10,
     "metadata": {},
     "output_type": "execute_result"
    }
   ],
   "source": [
    "res.head()"
   ]
  },
  {
   "cell_type": "markdown",
   "metadata": {},
   "source": [
    "Получаем список всех клиентов"
   ]
  },
  {
   "cell_type": "code",
   "execution_count": 11,
   "metadata": {},
   "outputs": [
    {
     "data": {
      "text/plain": [
       "(2539,)"
      ]
     },
     "execution_count": 11,
     "metadata": {},
     "output_type": "execute_result"
    }
   ],
   "source": [
    "clients_list = fabric.client_id.unique()\n",
    "clients_list.shape"
   ]
  },
  {
   "cell_type": "markdown",
   "metadata": {},
   "source": [
    "И заполняем табличку по каждому клиенту оценками каждому товару, который он покупал"
   ]
  },
  {
   "cell_type": "code",
   "execution_count": 12,
   "metadata": {},
   "outputs": [
    {
     "name": "stderr",
     "output_type": "stream",
     "text": [
      "  0%|          | 0/2539 [00:00<?, ?it/s]/home/ssv/anaconda3/lib/python3.7/site-packages/ipykernel_launcher.py:3: SettingWithCopyWarning: \n",
      "A value is trying to be set on a copy of a slice from a DataFrame.\n",
      "Try using .loc[row_indexer,col_indexer] = value instead\n",
      "\n",
      "See the caveats in the documentation: http://pandas.pydata.org/pandas-docs/stable/indexing.html#indexing-view-versus-copy\n",
      "  This is separate from the ipykernel package so we can avoid doing imports until\n",
      "100%|██████████| 2539/2539 [01:50<00:00, 22.98it/s]\n"
     ]
    }
   ],
   "source": [
    "for i in tqdm(clients_list):\n",
    "    res = res.append(scores(fabric, i), ignore_index=True)"
   ]
  },
  {
   "cell_type": "code",
   "execution_count": 13,
   "metadata": {},
   "outputs": [
    {
     "data": {
      "text/plain": [
       "((18107, 4), (18107, 3))"
      ]
     },
     "execution_count": 13,
     "metadata": {},
     "output_type": "execute_result"
    }
   ],
   "source": [
    "res.shape, fabric.shape   # убедились что все записи попали в табличку (просто есть клиенты, которые брали другие товары)"
   ]
  },
  {
   "cell_type": "markdown",
   "metadata": {},
   "source": [
    "Удаляем ненужные колонки"
   ]
  },
  {
   "cell_type": "code",
   "execution_count": 14,
   "metadata": {},
   "outputs": [],
   "source": [
    "del res['item_quantity']"
   ]
  },
  {
   "cell_type": "markdown",
   "metadata": {},
   "source": [
    "Получаем такую табличку,в которой по каждому клиенту есть его оценка товара"
   ]
  },
  {
   "cell_type": "code",
   "execution_count": 17,
   "metadata": {
    "scrolled": true
   },
   "outputs": [
    {
     "data": {
      "text/html": [
       "<div>\n",
       "<style scoped>\n",
       "    .dataframe tbody tr th:only-of-type {\n",
       "        vertical-align: middle;\n",
       "    }\n",
       "\n",
       "    .dataframe tbody tr th {\n",
       "        vertical-align: top;\n",
       "    }\n",
       "\n",
       "    .dataframe thead th {\n",
       "        text-align: right;\n",
       "    }\n",
       "</style>\n",
       "<table border=\"1\" class=\"dataframe\">\n",
       "  <thead>\n",
       "    <tr style=\"text-align: right;\">\n",
       "      <th></th>\n",
       "      <th>client_id</th>\n",
       "      <th>item_name</th>\n",
       "      <th>score</th>\n",
       "    </tr>\n",
       "  </thead>\n",
       "  <tbody>\n",
       "    <tr>\n",
       "      <th>0</th>\n",
       "      <td>14795</td>\n",
       "      <td>ГЖ-7-1</td>\n",
       "      <td>3.0</td>\n",
       "    </tr>\n",
       "    <tr>\n",
       "      <th>1</th>\n",
       "      <td>14795</td>\n",
       "      <td>ГМ-50-1</td>\n",
       "      <td>3.0</td>\n",
       "    </tr>\n",
       "    <tr>\n",
       "      <th>2</th>\n",
       "      <td>14795</td>\n",
       "      <td>ГМ-55-1</td>\n",
       "      <td>3.0</td>\n",
       "    </tr>\n",
       "    <tr>\n",
       "      <th>3</th>\n",
       "      <td>14795</td>\n",
       "      <td>РМ-8-1</td>\n",
       "      <td>3.0</td>\n",
       "    </tr>\n",
       "    <tr>\n",
       "      <th>4</th>\n",
       "      <td>14795</td>\n",
       "      <td>АКС-1-41</td>\n",
       "      <td>3.0</td>\n",
       "    </tr>\n",
       "    <tr>\n",
       "      <th>5</th>\n",
       "      <td>14795</td>\n",
       "      <td>АКС-1-42</td>\n",
       "      <td>3.0</td>\n",
       "    </tr>\n",
       "    <tr>\n",
       "      <th>6</th>\n",
       "      <td>14795</td>\n",
       "      <td>АО-8-28</td>\n",
       "      <td>3.0</td>\n",
       "    </tr>\n",
       "    <tr>\n",
       "      <th>7</th>\n",
       "      <td>14795</td>\n",
       "      <td>АО-8-70</td>\n",
       "      <td>3.0</td>\n",
       "    </tr>\n",
       "    <tr>\n",
       "      <th>8</th>\n",
       "      <td>14795</td>\n",
       "      <td>АО-9-56</td>\n",
       "      <td>3.0</td>\n",
       "    </tr>\n",
       "    <tr>\n",
       "      <th>9</th>\n",
       "      <td>14795</td>\n",
       "      <td>ДЖП-104-2</td>\n",
       "      <td>3.0</td>\n",
       "    </tr>\n",
       "    <tr>\n",
       "      <th>10</th>\n",
       "      <td>14795</td>\n",
       "      <td>ДЖП-104-6</td>\n",
       "      <td>4.0</td>\n",
       "    </tr>\n",
       "    <tr>\n",
       "      <th>11</th>\n",
       "      <td>14795</td>\n",
       "      <td>ККЛ-76-1</td>\n",
       "      <td>6.0</td>\n",
       "    </tr>\n",
       "    <tr>\n",
       "      <th>12</th>\n",
       "      <td>14795</td>\n",
       "      <td>КО-42-12</td>\n",
       "      <td>2.0</td>\n",
       "    </tr>\n",
       "    <tr>\n",
       "      <th>13</th>\n",
       "      <td>14795</td>\n",
       "      <td>КО-42-19</td>\n",
       "      <td>2.0</td>\n",
       "    </tr>\n",
       "    <tr>\n",
       "      <th>14</th>\n",
       "      <td>14795</td>\n",
       "      <td>КО-42-20</td>\n",
       "      <td>2.0</td>\n",
       "    </tr>\n",
       "    <tr>\n",
       "      <th>15</th>\n",
       "      <td>14795</td>\n",
       "      <td>КО-42-25</td>\n",
       "      <td>3.0</td>\n",
       "    </tr>\n",
       "    <tr>\n",
       "      <th>16</th>\n",
       "      <td>14795</td>\n",
       "      <td>КО-42-34</td>\n",
       "      <td>2.0</td>\n",
       "    </tr>\n",
       "    <tr>\n",
       "      <th>17</th>\n",
       "      <td>14795</td>\n",
       "      <td>КО-42-35</td>\n",
       "      <td>3.0</td>\n",
       "    </tr>\n",
       "    <tr>\n",
       "      <th>18</th>\n",
       "      <td>14795</td>\n",
       "      <td>КО-42-36</td>\n",
       "      <td>2.0</td>\n",
       "    </tr>\n",
       "    <tr>\n",
       "      <th>19</th>\n",
       "      <td>14795</td>\n",
       "      <td>КО-49-12</td>\n",
       "      <td>3.0</td>\n",
       "    </tr>\n",
       "    <tr>\n",
       "      <th>20</th>\n",
       "      <td>14795</td>\n",
       "      <td>КО-49-5</td>\n",
       "      <td>3.0</td>\n",
       "    </tr>\n",
       "    <tr>\n",
       "      <th>21</th>\n",
       "      <td>14795</td>\n",
       "      <td>ОШТ-5-13</td>\n",
       "      <td>3.0</td>\n",
       "    </tr>\n",
       "    <tr>\n",
       "      <th>22</th>\n",
       "      <td>14795</td>\n",
       "      <td>ОШТ-5-21</td>\n",
       "      <td>3.0</td>\n",
       "    </tr>\n",
       "    <tr>\n",
       "      <th>23</th>\n",
       "      <td>14795</td>\n",
       "      <td>ППП-81-3</td>\n",
       "      <td>3.0</td>\n",
       "    </tr>\n",
       "    <tr>\n",
       "      <th>24</th>\n",
       "      <td>14795</td>\n",
       "      <td>ППП-81-6</td>\n",
       "      <td>3.0</td>\n",
       "    </tr>\n",
       "    <tr>\n",
       "      <th>25</th>\n",
       "      <td>14795</td>\n",
       "      <td>ШО-37-67</td>\n",
       "      <td>4.0</td>\n",
       "    </tr>\n",
       "    <tr>\n",
       "      <th>26</th>\n",
       "      <td>14795</td>\n",
       "      <td>ПЛП-80-1</td>\n",
       "      <td>10.0</td>\n",
       "    </tr>\n",
       "    <tr>\n",
       "      <th>27</th>\n",
       "      <td>14795</td>\n",
       "      <td>ПП-217-1</td>\n",
       "      <td>3.0</td>\n",
       "    </tr>\n",
       "    <tr>\n",
       "      <th>28</th>\n",
       "      <td>14795</td>\n",
       "      <td>ПП-319-1</td>\n",
       "      <td>3.0</td>\n",
       "    </tr>\n",
       "    <tr>\n",
       "      <th>29</th>\n",
       "      <td>14795</td>\n",
       "      <td>СО-66-1</td>\n",
       "      <td>6.0</td>\n",
       "    </tr>\n",
       "    <tr>\n",
       "      <th>30</th>\n",
       "      <td>17255</td>\n",
       "      <td>ГМ-51-1</td>\n",
       "      <td>3.0</td>\n",
       "    </tr>\n",
       "    <tr>\n",
       "      <th>31</th>\n",
       "      <td>17255</td>\n",
       "      <td>РМ-11-1</td>\n",
       "      <td>3.0</td>\n",
       "    </tr>\n",
       "    <tr>\n",
       "      <th>32</th>\n",
       "      <td>17255</td>\n",
       "      <td>РМ-5-1</td>\n",
       "      <td>3.0</td>\n",
       "    </tr>\n",
       "    <tr>\n",
       "      <th>33</th>\n",
       "      <td>17255</td>\n",
       "      <td>КПГС-23-11</td>\n",
       "      <td>1.0</td>\n",
       "    </tr>\n",
       "    <tr>\n",
       "      <th>34</th>\n",
       "      <td>17255</td>\n",
       "      <td>КПКП-35-5</td>\n",
       "      <td>1.0</td>\n",
       "    </tr>\n",
       "    <tr>\n",
       "      <th>35</th>\n",
       "      <td>17255</td>\n",
       "      <td>ППП-2-1</td>\n",
       "      <td>1.0</td>\n",
       "    </tr>\n",
       "    <tr>\n",
       "      <th>36</th>\n",
       "      <td>17255</td>\n",
       "      <td>ППП-2-18</td>\n",
       "      <td>1.0</td>\n",
       "    </tr>\n",
       "    <tr>\n",
       "      <th>37</th>\n",
       "      <td>17255</td>\n",
       "      <td>ППП-2-2</td>\n",
       "      <td>1.0</td>\n",
       "    </tr>\n",
       "    <tr>\n",
       "      <th>38</th>\n",
       "      <td>17255</td>\n",
       "      <td>ППП-2-25</td>\n",
       "      <td>1.0</td>\n",
       "    </tr>\n",
       "    <tr>\n",
       "      <th>39</th>\n",
       "      <td>17255</td>\n",
       "      <td>ППП-2-4</td>\n",
       "      <td>1.0</td>\n",
       "    </tr>\n",
       "    <tr>\n",
       "      <th>40</th>\n",
       "      <td>17255</td>\n",
       "      <td>РБ-49-1</td>\n",
       "      <td>1.0</td>\n",
       "    </tr>\n",
       "    <tr>\n",
       "      <th>41</th>\n",
       "      <td>17255</td>\n",
       "      <td>РБ-49-2</td>\n",
       "      <td>1.0</td>\n",
       "    </tr>\n",
       "    <tr>\n",
       "      <th>42</th>\n",
       "      <td>17255</td>\n",
       "      <td>РБ-49-3</td>\n",
       "      <td>1.0</td>\n",
       "    </tr>\n",
       "    <tr>\n",
       "      <th>43</th>\n",
       "      <td>17255</td>\n",
       "      <td>РБ-49-4</td>\n",
       "      <td>1.0</td>\n",
       "    </tr>\n",
       "    <tr>\n",
       "      <th>44</th>\n",
       "      <td>17255</td>\n",
       "      <td>РБ-49-5</td>\n",
       "      <td>1.0</td>\n",
       "    </tr>\n",
       "    <tr>\n",
       "      <th>45</th>\n",
       "      <td>17255</td>\n",
       "      <td>РБ-74-1</td>\n",
       "      <td>1.0</td>\n",
       "    </tr>\n",
       "    <tr>\n",
       "      <th>46</th>\n",
       "      <td>17255</td>\n",
       "      <td>РБ-74-2</td>\n",
       "      <td>1.0</td>\n",
       "    </tr>\n",
       "    <tr>\n",
       "      <th>47</th>\n",
       "      <td>17255</td>\n",
       "      <td>ТС-20-2</td>\n",
       "      <td>4.0</td>\n",
       "    </tr>\n",
       "    <tr>\n",
       "      <th>48</th>\n",
       "      <td>17255</td>\n",
       "      <td>ТС-28-1</td>\n",
       "      <td>4.0</td>\n",
       "    </tr>\n",
       "    <tr>\n",
       "      <th>49</th>\n",
       "      <td>17255</td>\n",
       "      <td>ТТМ-319-1</td>\n",
       "      <td>8.0</td>\n",
       "    </tr>\n",
       "  </tbody>\n",
       "</table>\n",
       "</div>"
      ],
      "text/plain": [
       "   client_id   item_name  score\n",
       "0      14795      ГЖ-7-1    3.0\n",
       "1      14795     ГМ-50-1    3.0\n",
       "2      14795     ГМ-55-1    3.0\n",
       "3      14795      РМ-8-1    3.0\n",
       "4      14795    АКС-1-41    3.0\n",
       "5      14795    АКС-1-42    3.0\n",
       "6      14795     АО-8-28    3.0\n",
       "7      14795     АО-8-70    3.0\n",
       "8      14795     АО-9-56    3.0\n",
       "9      14795   ДЖП-104-2    3.0\n",
       "10     14795   ДЖП-104-6    4.0\n",
       "11     14795    ККЛ-76-1    6.0\n",
       "12     14795    КО-42-12    2.0\n",
       "13     14795    КО-42-19    2.0\n",
       "14     14795    КО-42-20    2.0\n",
       "15     14795    КО-42-25    3.0\n",
       "16     14795    КО-42-34    2.0\n",
       "17     14795    КО-42-35    3.0\n",
       "18     14795    КО-42-36    2.0\n",
       "19     14795    КО-49-12    3.0\n",
       "20     14795     КО-49-5    3.0\n",
       "21     14795    ОШТ-5-13    3.0\n",
       "22     14795    ОШТ-5-21    3.0\n",
       "23     14795    ППП-81-3    3.0\n",
       "24     14795    ППП-81-6    3.0\n",
       "25     14795    ШО-37-67    4.0\n",
       "26     14795    ПЛП-80-1   10.0\n",
       "27     14795    ПП-217-1    3.0\n",
       "28     14795    ПП-319-1    3.0\n",
       "29     14795     СО-66-1    6.0\n",
       "30     17255     ГМ-51-1    3.0\n",
       "31     17255     РМ-11-1    3.0\n",
       "32     17255      РМ-5-1    3.0\n",
       "33     17255  КПГС-23-11    1.0\n",
       "34     17255   КПКП-35-5    1.0\n",
       "35     17255     ППП-2-1    1.0\n",
       "36     17255    ППП-2-18    1.0\n",
       "37     17255     ППП-2-2    1.0\n",
       "38     17255    ППП-2-25    1.0\n",
       "39     17255     ППП-2-4    1.0\n",
       "40     17255     РБ-49-1    1.0\n",
       "41     17255     РБ-49-2    1.0\n",
       "42     17255     РБ-49-3    1.0\n",
       "43     17255     РБ-49-4    1.0\n",
       "44     17255     РБ-49-5    1.0\n",
       "45     17255     РБ-74-1    1.0\n",
       "46     17255     РБ-74-2    1.0\n",
       "47     17255     ТС-20-2    4.0\n",
       "48     17255     ТС-28-1    4.0\n",
       "49     17255   ТТМ-319-1    8.0"
      ]
     },
     "execution_count": 17,
     "metadata": {},
     "output_type": "execute_result"
    }
   ],
   "source": [
    "res.head(50)"
   ]
  },
  {
   "cell_type": "markdown",
   "metadata": {},
   "source": [
    "Сохранились"
   ]
  },
  {
   "cell_type": "code",
   "execution_count": 16,
   "metadata": {},
   "outputs": [],
   "source": [
    "res.to_csv('res.csv')"
   ]
  }
 ],
 "metadata": {
  "kernelspec": {
   "display_name": "Python 3",
   "language": "python",
   "name": "python3"
  },
  "language_info": {
   "codemirror_mode": {
    "name": "ipython",
    "version": 3
   },
   "file_extension": ".py",
   "mimetype": "text/x-python",
   "name": "python",
   "nbconvert_exporter": "python",
   "pygments_lexer": "ipython3",
   "version": "3.7.3"
  },
  "toc": {
   "base_numbering": 1,
   "nav_menu": {},
   "number_sections": true,
   "sideBar": true,
   "skip_h1_title": false,
   "title_cell": "Table of Contents",
   "title_sidebar": "Contents",
   "toc_cell": false,
   "toc_position": {},
   "toc_section_display": true,
   "toc_window_display": false
  }
 },
 "nbformat": 4,
 "nbformat_minor": 2
}
