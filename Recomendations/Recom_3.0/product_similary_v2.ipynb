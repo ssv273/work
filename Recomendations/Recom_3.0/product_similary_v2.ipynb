{
 "cells": [
  {
   "cell_type": "code",
   "execution_count": 1,
   "metadata": {},
   "outputs": [],
   "source": [
    "import pandas as pd\n",
    "import numpy as np\n",
    "from tqdm import tqdm\n",
    "import warnings\n",
    "warnings.filterwarnings('ignore')\n",
    "%matplotlib inline"
   ]
  },
  {
   "cell_type": "code",
   "execution_count": 2,
   "metadata": {},
   "outputs": [],
   "source": [
    "ratings = pd.read_csv('res.csv')"
   ]
  },
  {
   "cell_type": "markdown",
   "metadata": {},
   "source": [
    "# Этап 1: Находим похожие товары"
   ]
  },
  {
   "cell_type": "code",
   "execution_count": 4,
   "metadata": {},
   "outputs": [],
   "source": [
    "productRatings = ratings.pivot_table(index=['client_id'],columns=['item_name'],values='score')"
   ]
  },
  {
   "cell_type": "code",
   "execution_count": 6,
   "metadata": {
    "scrolled": true
   },
   "outputs": [],
   "source": [
    "def similar_products_func(product, num_similar_products=15):\n",
    "    fabric_Ratings = productRatings[product]\n",
    "    similar_Products = productRatings.corrwith(fabric_Ratings)\n",
    "    similar_Products = similar_Products.dropna()\n",
    "    df = pd.DataFrame(similar_Products)\n",
    "    # Удаляем непопулярные товары, чтобы система не подкидывала нам неподходящих рекомендаций\n",
    "    ratingsCount = 4\n",
    "    # группируем по количеству оценок и выводим среднюю оценку\n",
    "    fabric_Stats = ratings.groupby('item_name').agg({'score': [np.size, np.mean]}) \n",
    "    # получаем только те товары, количество оценок которых более ratingsCount\n",
    "    popular_products = fabric_Stats['score']['size'] >= ratingsCount \n",
    "    # получаем первые 15 товаров с оцененных более ratingsCount раз и отсортированных по убыванию оценки\n",
    "    fabric_Stats[popular_products].sort_values([('score', 'mean')], ascending=False)[:15]\n",
    "    # Извлекаем популярные товары, похожие на целевой\n",
    "    df = fabric_Stats[popular_products].join(pd.DataFrame(similar_Products, columns=['similarity'])).reset_index()\n",
    "    return df\n"
   ]
  },
  {
   "cell_type": "code",
   "execution_count": 7,
   "metadata": {},
   "outputs": [],
   "source": [
    "def get_tables_similar_products(item_name, num_similar_products=15):\n",
    "    df = similar_products_func(item_name)\n",
    "    df = df.rename(columns={('score', 'mean'):'mean', ('score', 'size'):'count'})\n",
    "    df = df.sort_values(['similarity'], ascending=False)[:num_similar_products]\n",
    "    df = df[df['similarity']>0.7] # отбираем только те товары похожесть которых более 0,7\n",
    "    df = df.sort_values(['mean', 'similarity'], ascending=False)\n",
    "    del df['count']\n",
    "    del df['mean']\n",
    "    del df['similarity']\n",
    "    return df"
   ]
  },
  {
   "cell_type": "code",
   "execution_count": null,
   "metadata": {
    "scrolled": true
   },
   "outputs": [],
   "source": []
  },
  {
   "cell_type": "markdown",
   "metadata": {},
   "source": [
    "# Этап 2: определяем наиболее популярные товары"
   ]
  },
  {
   "cell_type": "code",
   "execution_count": 9,
   "metadata": {},
   "outputs": [],
   "source": [
    "rate = ratings.groupby('item_name').agg({'score': ['count', 'mean','min', 'max']})"
   ]
  },
  {
   "cell_type": "code",
   "execution_count": 11,
   "metadata": {},
   "outputs": [],
   "source": [
    "rate = rate.sort_values([('score','count'),('score', 'mean')], ascending=False).head(15)"
   ]
  },
  {
   "cell_type": "code",
   "execution_count": 13,
   "metadata": {},
   "outputs": [],
   "source": [
    "rate = rate.sort_values([('score', 'mean')], ascending=False)"
   ]
  },
  {
   "cell_type": "code",
   "execution_count": 15,
   "metadata": {},
   "outputs": [],
   "source": [
    "rate = rate.droplevel(level=0, axis=1)"
   ]
  },
  {
   "cell_type": "code",
   "execution_count": 19,
   "metadata": {},
   "outputs": [],
   "source": [
    "del rate['count']\n",
    "del rate['mean']\n",
    "del rate['min']\n",
    "del rate['max']"
   ]
  },
  {
   "cell_type": "markdown",
   "metadata": {},
   "source": [
    "# Создаём общую табличку по всем товарам"
   ]
  },
  {
   "cell_type": "code",
   "execution_count": 22,
   "metadata": {},
   "outputs": [],
   "source": [
    "name_columns_list = []\n",
    "for i in range(1, 16):\n",
    "    name = 'product_' + str(i)\n",
    "    name_columns_list.append(name)"
   ]
  },
  {
   "cell_type": "code",
   "execution_count": 23,
   "metadata": {},
   "outputs": [],
   "source": [
    "res_df = pd.DataFrame(columns=name_columns_list)"
   ]
  },
  {
   "cell_type": "code",
   "execution_count": 24,
   "metadata": {},
   "outputs": [],
   "source": [
    "items_list = ratings.item_name.unique()"
   ]
  },
  {
   "cell_type": "code",
   "execution_count": 30,
   "metadata": {},
   "outputs": [
    {
     "name": "stderr",
     "output_type": "stream",
     "text": [
      "100%|██████████| 4014/4014 [1:41:25<00:00,  1.49s/it]\n"
     ]
    }
   ],
   "source": [
    "for items in tqdm(items_list):\n",
    "    res = get_tables_similar_products(items)\n",
    "    res_full = res.append(rate.reset_index()[:(15-res.shape[0])]).reset_index()\n",
    "    dict_list = []\n",
    "    for i in range(15):\n",
    "        dict_list.append(res_full.iloc[i][1])\n",
    "    res_df.loc[items] = dict_list"
   ]
  },
  {
   "cell_type": "code",
   "execution_count": 34,
   "metadata": {},
   "outputs": [],
   "source": [
    "res_df.to_csv('res_table.csv')"
   ]
  }
 ],
 "metadata": {
  "kernelspec": {
   "display_name": "Python 3",
   "language": "python",
   "name": "python3"
  },
  "language_info": {
   "codemirror_mode": {
    "name": "ipython",
    "version": 3
   },
   "file_extension": ".py",
   "mimetype": "text/x-python",
   "name": "python",
   "nbconvert_exporter": "python",
   "pygments_lexer": "ipython3",
   "version": "3.7.3"
  },
  "toc": {
   "base_numbering": 1,
   "nav_menu": {
    "height": "127px",
    "width": "160px"
   },
   "number_sections": true,
   "sideBar": true,
   "skip_h1_title": false,
   "title_cell": "Table of Contents",
   "title_sidebar": "Contents",
   "toc_cell": false,
   "toc_position": {},
   "toc_section_display": true,
   "toc_window_display": false
  }
 },
 "nbformat": 4,
 "nbformat_minor": 2
}
